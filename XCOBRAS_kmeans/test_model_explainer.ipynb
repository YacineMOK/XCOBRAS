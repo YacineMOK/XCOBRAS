{
 "cells": [
  {
   "cell_type": "markdown",
   "metadata": {},
   "source": [
    "## I. Import + Load Data"
   ]
  },
  {
   "cell_type": "code",
   "execution_count": 21,
   "metadata": {},
   "outputs": [],
   "source": [
    "# ------- IMPORTS\n",
    "# -- model(s)\n",
    "from cobras_ts.querier.labelquerier import LabelQuerier\n",
    "from XQuerier import XQuerier\n",
    "from xcobras_kmeans import XCOBRAS_kmeans\n",
    "from model_explainer import XCobrasExplainer\n",
    "import shap\n",
    "\n",
    "# -- metrics\n",
    "from sklearn.metrics import adjusted_rand_score\n",
    "\n",
    "# -- plot(s)\n",
    "from utils.plots import plot_2D, plot_boundary\n",
    "import matplotlib.pyplot as plt\n",
    "\n",
    "# -- dataset(s) \n",
    "from sklearn import datasets\n",
    "from scipy.io import arff\n",
    "import pandas as pd\n",
    "import numpy as np\n",
    "\n",
    "# -- others\n",
    "import warnings\n",
    "warnings.filterwarnings(\"ignore\")\n",
    "\n",
    "\n",
    "# ------- CREATE TOY DATASET\n",
    "n_samples = 500\n",
    "X_blob0, y_blob0 = datasets.make_blobs(n_samples=n_samples, centers=3, n_features=2, random_state=0)\n",
    "X_blob1, y_blob1 = datasets.make_blobs(n_samples=n_samples, centers=3, n_features=2, random_state=1)\n",
    "X_moons1, y_moons1 = datasets.make_moons(n_samples=n_samples, noise=0.1, random_state=1)\n",
    "# on verra comment les print\n",
    "\n",
    "# ------- READ REAL DATASET\n",
    "PATH = \"../../../datasets/deric benchmark/\"\n",
    "ARTIFICIAL = PATH+\"artificial/\"\n",
    "REALWORLD = PATH+\"real-world/\"\n",
    "\n",
    "datasets_path = [\n",
    "    ARTIFICIAL+\"target\",\n",
    "    REALWORLD+\"wine\",\n",
    "    REALWORLD+\"iris\"\n",
    "]\n",
    "\n",
    "data = {}\n",
    "for dataset_path in datasets_path:\n",
    "    temp_data = arff.loadarff(open(dataset_path+\".arff\", 'r'))\n",
    "    dataset_name = dataset_path.split(\"/\")[-1]\n",
    "    data[dataset_name] = pd.DataFrame(temp_data[0])\n",
    "    data[dataset_name][\"class\"] = data[dataset_name][\"class\"].str.decode('utf-8') "
   ]
  },
  {
   "cell_type": "code",
   "execution_count": 22,
   "metadata": {},
   "outputs": [
    {
     "ename": "KeyError",
     "evalue": "'dermatology'",
     "output_type": "error",
     "traceback": [
      "\u001b[1;31m---------------------------------------------------------------------------\u001b[0m",
      "\u001b[1;31mKeyError\u001b[0m                                  Traceback (most recent call last)",
      "Cell \u001b[1;32mIn[22], line 1\u001b[0m\n\u001b[1;32m----> 1\u001b[0m data[\u001b[39m\"\u001b[39;49m\u001b[39mdermatology\u001b[39;49m\u001b[39m\"\u001b[39;49m]\n",
      "\u001b[1;31mKeyError\u001b[0m: 'dermatology'"
     ]
    }
   ],
   "source": [
    "data[\"dermatology\"]"
   ]
  },
  {
   "cell_type": "code",
   "execution_count": 2,
   "metadata": {},
   "outputs": [],
   "source": [
    "X = data[\"wine\"].drop([\"class\"], axis=1)\n",
    "y = data[\"wine\"][\"class\"]\n",
    "\n",
    "feature_names = X.columns\n",
    "\n",
    "budget = 10"
   ]
  },
  {
   "cell_type": "code",
   "execution_count": 3,
   "metadata": {},
   "outputs": [
    {
     "name": "stdout",
     "output_type": "stream",
     "text": [
      "Fitting...\n",
      "Model Explainer running...\n",
      "... finished!\n",
      "------------------------------------------\n",
      "\n",
      "\n",
      "Computing the 'Shap Values'...\n",
      "FN:Index(['Alcohol', 'Malic_acid', 'Ash', 'Alcalinity_of_ash', 'Magnesium',\n",
      "       'Total_phenols', 'Flavanoids', 'Nonflavanoid_phenols',\n",
      "       'Proanthocyanins', 'Color_intensity', 'Hue',\n",
      "       'OD280/OD315_of_diluted_wines', 'Proline'],\n",
      "      dtype='object')\n",
      "FN:Index(['Alcohol', 'Malic_acid', 'Ash', 'Alcalinity_of_ash', 'Magnesium',\n",
      "       'Total_phenols', 'Flavanoids', 'Nonflavanoid_phenols',\n",
      "       'Proanthocyanins', 'Color_intensity', 'Hue',\n",
      "       'OD280/OD315_of_diluted_wines', 'Proline'],\n",
      "      dtype='object')\n",
      "type:<class 'numpy.ndarray'> | shape: (2, 13)\n",
      "problem ici\n",
      "... finished!\n",
      "------------------------------------------\n",
      "\n",
      "\n",
      "Model Explainer running...\n",
      "... finished!\n",
      "------------------------------------------\n",
      "\n",
      "\n",
      "Computing the 'Shap Values'...\n",
      "FN:Index(['Alcohol', 'Malic_acid', 'Ash', 'Alcalinity_of_ash', 'Magnesium',\n",
      "       'Total_phenols', 'Flavanoids', 'Nonflavanoid_phenols',\n",
      "       'Proanthocyanins', 'Color_intensity', 'Hue',\n",
      "       'OD280/OD315_of_diluted_wines', 'Proline'],\n",
      "      dtype='object')\n",
      "FN:Index(['Alcohol', 'Malic_acid', 'Ash', 'Alcalinity_of_ash', 'Magnesium',\n",
      "       'Total_phenols', 'Flavanoids', 'Nonflavanoid_phenols',\n",
      "       'Proanthocyanins', 'Color_intensity', 'Hue',\n",
      "       'OD280/OD315_of_diluted_wines', 'Proline'],\n",
      "      dtype='object')\n",
      "type:<class 'numpy.ndarray'> | shape: (2, 13)\n",
      "problem ici\n",
      "... finished!\n",
      "------------------------------------------\n",
      "\n",
      "\n",
      "Model Explainer running...\n",
      "... finished!\n",
      "------------------------------------------\n",
      "\n",
      "\n",
      "Computing the 'Shap Values'...\n",
      "FN:Index(['Alcohol', 'Malic_acid', 'Ash', 'Alcalinity_of_ash', 'Magnesium',\n",
      "       'Total_phenols', 'Flavanoids', 'Nonflavanoid_phenols',\n",
      "       'Proanthocyanins', 'Color_intensity', 'Hue',\n",
      "       'OD280/OD315_of_diluted_wines', 'Proline'],\n",
      "      dtype='object')\n",
      "FN:Index(['Alcohol', 'Malic_acid', 'Ash', 'Alcalinity_of_ash', 'Magnesium',\n",
      "       'Total_phenols', 'Flavanoids', 'Nonflavanoid_phenols',\n",
      "       'Proanthocyanins', 'Color_intensity', 'Hue',\n",
      "       'OD280/OD315_of_diluted_wines', 'Proline'],\n",
      "      dtype='object')\n",
      "type:<class 'numpy.ndarray'> | shape: (2, 13)\n",
      "problem ici\n",
      "... finished!\n",
      "------------------------------------------\n",
      "\n",
      "\n",
      "Model Explainer running...\n",
      "... finished!\n",
      "------------------------------------------\n",
      "\n",
      "\n",
      "Computing the 'Shap Values'...\n",
      "FN:Index(['Alcohol', 'Malic_acid', 'Ash', 'Alcalinity_of_ash', 'Magnesium',\n",
      "       'Total_phenols', 'Flavanoids', 'Nonflavanoid_phenols',\n",
      "       'Proanthocyanins', 'Color_intensity', 'Hue',\n",
      "       'OD280/OD315_of_diluted_wines', 'Proline'],\n",
      "      dtype='object')\n",
      "FN:Index(['Alcohol', 'Malic_acid', 'Ash', 'Alcalinity_of_ash', 'Magnesium',\n",
      "       'Total_phenols', 'Flavanoids', 'Nonflavanoid_phenols',\n",
      "       'Proanthocyanins', 'Color_intensity', 'Hue',\n",
      "       'OD280/OD315_of_diluted_wines', 'Proline'],\n",
      "      dtype='object')\n",
      "type:<class 'numpy.ndarray'> | shape: (2, 13)\n",
      "problem ici\n",
      "... finished!\n",
      "------------------------------------------\n",
      "\n",
      "\n",
      "Model Explainer running...\n",
      "... finished!\n",
      "------------------------------------------\n",
      "\n",
      "\n",
      "Computing the 'Shap Values'...\n",
      "FN:Index(['Alcohol', 'Malic_acid', 'Ash', 'Alcalinity_of_ash', 'Magnesium',\n",
      "       'Total_phenols', 'Flavanoids', 'Nonflavanoid_phenols',\n",
      "       'Proanthocyanins', 'Color_intensity', 'Hue',\n",
      "       'OD280/OD315_of_diluted_wines', 'Proline'],\n",
      "      dtype='object')\n",
      "FN:Index(['Alcohol', 'Malic_acid', 'Ash', 'Alcalinity_of_ash', 'Magnesium',\n",
      "       'Total_phenols', 'Flavanoids', 'Nonflavanoid_phenols',\n",
      "       'Proanthocyanins', 'Color_intensity', 'Hue',\n",
      "       'OD280/OD315_of_diluted_wines', 'Proline'],\n",
      "      dtype='object')\n",
      "type:<class 'numpy.ndarray'> | shape: (2, 13)\n",
      "problem ici\n",
      "... finished!\n",
      "------------------------------------------\n",
      "\n",
      "\n",
      "Predicting...\n",
      "ARI: 0.33\n"
     ]
    }
   ],
   "source": [
    "xai_querier = XQuerier(\n",
    "    y.values,\n",
    "    strat=\"commun_fraction\",\n",
    "    top_n = 3,\n",
    "    threshold = 0.5\n",
    ")\n",
    "\n",
    "xcobras_kmeans = XCOBRAS_kmeans(budget, verbose=False)\n",
    "\n",
    "print(\"Fitting...\")\n",
    "xcobras_kmeans.fit(X.values, feature_names=feature_names, y=xai_querier)\n",
    "\n",
    "print(\"Predicting...\")\n",
    "y_hat = xcobras_kmeans.predict(X.values)\n",
    "\n",
    "print(f\"ARI: {adjusted_rand_score(y_hat, y):.2f}\")"
   ]
  },
  {
   "cell_type": "code",
   "execution_count": 13,
   "metadata": {},
   "outputs": [
    {
     "data": {
      "text/plain": [
       "array([4, 4, 4, 4, 4, 2])"
      ]
     },
     "execution_count": 13,
     "metadata": {},
     "output_type": "execute_result"
    }
   ],
   "source": [
    "from sklearn.svm import LinearSVC\n",
    "\n",
    "LinearSVC()"
   ]
  },
  {
   "cell_type": "code",
   "execution_count": 4,
   "metadata": {},
   "outputs": [
    {
     "name": "stdout",
     "output_type": "stream",
     "text": [
      "---------Some scores:---------\n",
      "------------------------------\n",
      "f1-score (macro): 0.9672727273\n",
      "         (micro): 0.9722222222\n",
      "  accuracy_score: 0.9722222222\n",
      "------------------------------\n"
     ]
    }
   ],
   "source": [
    "part_two = XCobrasExplainer(verbose=True)\n",
    "part_two.fit(X.values, y_hat)"
   ]
  },
  {
   "attachments": {},
   "cell_type": "markdown",
   "metadata": {},
   "source": [
    "### Shap"
   ]
  },
  {
   "cell_type": "markdown",
   "metadata": {},
   "source": [
    "**General idea:**  \n",
    "1. Get all the instances of a certain cluster\n",
    "2. Explain the whole cluster\n",
    "3. Show explanation of 2 samples"
   ]
  },
  {
   "cell_type": "code",
   "execution_count": 5,
   "metadata": {},
   "outputs": [
    {
     "name": "stdout",
     "output_type": "stream",
     "text": [
      "Chosen label: 0\n",
      "Number of instances: 73\n"
     ]
    }
   ],
   "source": [
    "import shap\n",
    "\n",
    "# 1  .................\n",
    "label = np.random.choice(list(set(y_hat)))\n",
    "print(f\"Chosen label: {label}\")\n",
    "X_label = X[list(y_hat)==label]\n",
    "print(f\"Number of instances: {X_label.shape[0]}\")"
   ]
  },
  {
   "cell_type": "code",
   "execution_count": 11,
   "metadata": {},
   "outputs": [
    {
     "name": "stdout",
     "output_type": "stream",
     "text": [
      "PartTwo explainer .... \n"
     ]
    }
   ],
   "source": [
    "# 2  .................\n",
    "# #  ---- COBRAS\n",
    "# explainer_XCOBRAS_kmeans = shap.Explainer(\n",
    "#     xcobras_kmeans.predict,\n",
    "#     X_label.values,\n",
    "#     feature_names=list(X.columns)\n",
    "# )\n",
    "# print(\"XCOBRAS explainer .... \")\n",
    "# XCOBRAS_shap_values = explainer_XCOBRAS_kmeans(X_label.values)\n",
    "\n",
    "\n",
    "#  ---- PartTwo (RBF SVM)\n",
    "explainer_part_two = shap.Explainer(\n",
    "    part_two.predict,\n",
    "    X.values,\n",
    "    feature_names=list(X.columns)\n",
    ")\n",
    "print(\"PartTwo explainer .... \")\n",
    "part_two_shap_values = explainer_part_two(X.values[[0, 1]])"
   ]
  },
  {
   "cell_type": "code",
   "execution_count": 20,
   "metadata": {},
   "outputs": [
    {
     "data": {
      "text/plain": [
       ".values =\n",
       "array([-0.11833333,  0.00138889, -0.00444444,  0.02055556,  0.00305556,\n",
       "        0.04305556, -0.02277778, -0.12083333,  0.025     , -0.00805556,\n",
       "       -0.00916667,  0.00555556, -0.585     ])\n",
       "\n",
       ".base_values =\n",
       "0.77\n",
       "\n",
       ".data =\n",
       "array([1.423e+01, 1.710e+00, 2.430e+00, 1.560e+01, 1.270e+02, 2.800e+00,\n",
       "       3.060e+00, 2.800e-01, 2.290e+00, 5.640e+00, 1.040e+00, 3.920e+00,\n",
       "       1.065e+03])"
      ]
     },
     "execution_count": 20,
     "metadata": {},
     "output_type": "execute_result"
    }
   ],
   "source": [
    "part_two_shap_values = explainer_part_two(X.values[[0, 1]])\n",
    "part_two_shap_values[0]"
   ]
  },
  {
   "cell_type": "code",
   "execution_count": 15,
   "metadata": {},
   "outputs": [],
   "source": [
    "# # 3  .................\n",
    "# shap.summary_plot(XCOBRAS_shap_values,\n",
    "#                   X_label.values,\n",
    "#                   cmap = \"plasma\")"
   ]
  },
  {
   "cell_type": "code",
   "execution_count": 71,
   "metadata": {},
   "outputs": [
    {
     "data": {
      "text/plain": [
       "3"
      ]
     },
     "execution_count": 71,
     "metadata": {},
     "output_type": "execute_result"
    }
   ],
   "source": [
    "len(set(y_hat))"
   ]
  },
  {
   "cell_type": "code",
   "execution_count": 9,
   "metadata": {},
   "outputs": [
    {
     "ename": "ValueError",
     "evalue": "Image size of -640794694x363 pixels is too large. It must be less than 2^16 in each direction.",
     "output_type": "error",
     "traceback": [
      "\u001b[1;31m---------------------------------------------------------------------------\u001b[0m",
      "\u001b[1;31mValueError\u001b[0m                                Traceback (most recent call last)",
      "File \u001b[1;32mc:\\Users\\user\\anaconda3\\envs\\XClustering_env39\\lib\\site-packages\\IPython\\core\\formatters.py:338\u001b[0m, in \u001b[0;36mBaseFormatter.__call__\u001b[1;34m(self, obj)\u001b[0m\n\u001b[0;32m    336\u001b[0m     \u001b[39mpass\u001b[39;00m\n\u001b[0;32m    337\u001b[0m \u001b[39melse\u001b[39;00m:\n\u001b[1;32m--> 338\u001b[0m     \u001b[39mreturn\u001b[39;00m printer(obj)\n\u001b[0;32m    339\u001b[0m \u001b[39m# Finally look for special method names\u001b[39;00m\n\u001b[0;32m    340\u001b[0m method \u001b[39m=\u001b[39m get_real_method(obj, \u001b[39mself\u001b[39m\u001b[39m.\u001b[39mprint_method)\n",
      "File \u001b[1;32mc:\\Users\\user\\anaconda3\\envs\\XClustering_env39\\lib\\site-packages\\IPython\\core\\pylabtools.py:152\u001b[0m, in \u001b[0;36mprint_figure\u001b[1;34m(fig, fmt, bbox_inches, base64, **kwargs)\u001b[0m\n\u001b[0;32m    149\u001b[0m     \u001b[39mfrom\u001b[39;00m \u001b[39mmatplotlib\u001b[39;00m\u001b[39m.\u001b[39;00m\u001b[39mbackend_bases\u001b[39;00m \u001b[39mimport\u001b[39;00m FigureCanvasBase\n\u001b[0;32m    150\u001b[0m     FigureCanvasBase(fig)\n\u001b[1;32m--> 152\u001b[0m fig\u001b[39m.\u001b[39mcanvas\u001b[39m.\u001b[39mprint_figure(bytes_io, \u001b[39m*\u001b[39m\u001b[39m*\u001b[39mkw)\n\u001b[0;32m    153\u001b[0m data \u001b[39m=\u001b[39m bytes_io\u001b[39m.\u001b[39mgetvalue()\n\u001b[0;32m    154\u001b[0m \u001b[39mif\u001b[39;00m fmt \u001b[39m==\u001b[39m \u001b[39m'\u001b[39m\u001b[39msvg\u001b[39m\u001b[39m'\u001b[39m:\n",
      "File \u001b[1;32mc:\\Users\\user\\anaconda3\\envs\\XClustering_env39\\lib\\site-packages\\matplotlib\\backend_bases.py:2362\u001b[0m, in \u001b[0;36mFigureCanvasBase.print_figure\u001b[1;34m(self, filename, dpi, facecolor, edgecolor, orientation, format, bbox_inches, pad_inches, bbox_extra_artists, backend, **kwargs)\u001b[0m\n\u001b[0;32m   2358\u001b[0m \u001b[39mtry\u001b[39;00m:\n\u001b[0;32m   2359\u001b[0m     \u001b[39m# _get_renderer may change the figure dpi (as vector formats\u001b[39;00m\n\u001b[0;32m   2360\u001b[0m     \u001b[39m# force the figure dpi to 72), so we need to set it again here.\u001b[39;00m\n\u001b[0;32m   2361\u001b[0m     \u001b[39mwith\u001b[39;00m cbook\u001b[39m.\u001b[39m_setattr_cm(\u001b[39mself\u001b[39m\u001b[39m.\u001b[39mfigure, dpi\u001b[39m=\u001b[39mdpi):\n\u001b[1;32m-> 2362\u001b[0m         result \u001b[39m=\u001b[39m print_method(\n\u001b[0;32m   2363\u001b[0m             filename,\n\u001b[0;32m   2364\u001b[0m             facecolor\u001b[39m=\u001b[39mfacecolor,\n\u001b[0;32m   2365\u001b[0m             edgecolor\u001b[39m=\u001b[39medgecolor,\n\u001b[0;32m   2366\u001b[0m             orientation\u001b[39m=\u001b[39morientation,\n\u001b[0;32m   2367\u001b[0m             bbox_inches_restore\u001b[39m=\u001b[39m_bbox_inches_restore,\n\u001b[0;32m   2368\u001b[0m             \u001b[39m*\u001b[39m\u001b[39m*\u001b[39mkwargs)\n\u001b[0;32m   2369\u001b[0m \u001b[39mfinally\u001b[39;00m:\n\u001b[0;32m   2370\u001b[0m     \u001b[39mif\u001b[39;00m bbox_inches \u001b[39mand\u001b[39;00m restore_bbox:\n",
      "File \u001b[1;32mc:\\Users\\user\\anaconda3\\envs\\XClustering_env39\\lib\\site-packages\\matplotlib\\backend_bases.py:2228\u001b[0m, in \u001b[0;36mFigureCanvasBase._switch_canvas_and_return_print_method.<locals>.<lambda>\u001b[1;34m(*args, **kwargs)\u001b[0m\n\u001b[0;32m   2224\u001b[0m     optional_kws \u001b[39m=\u001b[39m {  \u001b[39m# Passed by print_figure for other renderers.\u001b[39;00m\n\u001b[0;32m   2225\u001b[0m         \u001b[39m\"\u001b[39m\u001b[39mdpi\u001b[39m\u001b[39m\"\u001b[39m, \u001b[39m\"\u001b[39m\u001b[39mfacecolor\u001b[39m\u001b[39m\"\u001b[39m, \u001b[39m\"\u001b[39m\u001b[39medgecolor\u001b[39m\u001b[39m\"\u001b[39m, \u001b[39m\"\u001b[39m\u001b[39morientation\u001b[39m\u001b[39m\"\u001b[39m,\n\u001b[0;32m   2226\u001b[0m         \u001b[39m\"\u001b[39m\u001b[39mbbox_inches_restore\u001b[39m\u001b[39m\"\u001b[39m}\n\u001b[0;32m   2227\u001b[0m     skip \u001b[39m=\u001b[39m optional_kws \u001b[39m-\u001b[39m {\u001b[39m*\u001b[39minspect\u001b[39m.\u001b[39msignature(meth)\u001b[39m.\u001b[39mparameters}\n\u001b[1;32m-> 2228\u001b[0m     print_method \u001b[39m=\u001b[39m functools\u001b[39m.\u001b[39mwraps(meth)(\u001b[39mlambda\u001b[39;00m \u001b[39m*\u001b[39margs, \u001b[39m*\u001b[39m\u001b[39m*\u001b[39mkwargs: meth(\n\u001b[0;32m   2229\u001b[0m         \u001b[39m*\u001b[39margs, \u001b[39m*\u001b[39m\u001b[39m*\u001b[39m{k: v \u001b[39mfor\u001b[39;00m k, v \u001b[39min\u001b[39;00m kwargs\u001b[39m.\u001b[39mitems() \u001b[39mif\u001b[39;00m k \u001b[39mnot\u001b[39;00m \u001b[39min\u001b[39;00m skip}))\n\u001b[0;32m   2230\u001b[0m \u001b[39melse\u001b[39;00m:  \u001b[39m# Let third-parties do as they see fit.\u001b[39;00m\n\u001b[0;32m   2231\u001b[0m     print_method \u001b[39m=\u001b[39m meth\n",
      "File \u001b[1;32mc:\\Users\\user\\anaconda3\\envs\\XClustering_env39\\lib\\site-packages\\matplotlib\\backends\\backend_agg.py:509\u001b[0m, in \u001b[0;36mFigureCanvasAgg.print_png\u001b[1;34m(self, filename_or_obj, metadata, pil_kwargs)\u001b[0m\n\u001b[0;32m    462\u001b[0m \u001b[39mdef\u001b[39;00m \u001b[39mprint_png\u001b[39m(\u001b[39mself\u001b[39m, filename_or_obj, \u001b[39m*\u001b[39m, metadata\u001b[39m=\u001b[39m\u001b[39mNone\u001b[39;00m, pil_kwargs\u001b[39m=\u001b[39m\u001b[39mNone\u001b[39;00m):\n\u001b[0;32m    463\u001b[0m     \u001b[39m\"\"\"\u001b[39;00m\n\u001b[0;32m    464\u001b[0m \u001b[39m    Write the figure to a PNG file.\u001b[39;00m\n\u001b[0;32m    465\u001b[0m \n\u001b[1;32m   (...)\u001b[0m\n\u001b[0;32m    507\u001b[0m \u001b[39m        *metadata*, including the default 'Software' key.\u001b[39;00m\n\u001b[0;32m    508\u001b[0m \u001b[39m    \"\"\"\u001b[39;00m\n\u001b[1;32m--> 509\u001b[0m     \u001b[39mself\u001b[39;49m\u001b[39m.\u001b[39;49m_print_pil(filename_or_obj, \u001b[39m\"\u001b[39;49m\u001b[39mpng\u001b[39;49m\u001b[39m\"\u001b[39;49m, pil_kwargs, metadata)\n",
      "File \u001b[1;32mc:\\Users\\user\\anaconda3\\envs\\XClustering_env39\\lib\\site-packages\\matplotlib\\backends\\backend_agg.py:457\u001b[0m, in \u001b[0;36mFigureCanvasAgg._print_pil\u001b[1;34m(self, filename_or_obj, fmt, pil_kwargs, metadata)\u001b[0m\n\u001b[0;32m    452\u001b[0m \u001b[39mdef\u001b[39;00m \u001b[39m_print_pil\u001b[39m(\u001b[39mself\u001b[39m, filename_or_obj, fmt, pil_kwargs, metadata\u001b[39m=\u001b[39m\u001b[39mNone\u001b[39;00m):\n\u001b[0;32m    453\u001b[0m     \u001b[39m\"\"\"\u001b[39;00m\n\u001b[0;32m    454\u001b[0m \u001b[39m    Draw the canvas, then save it using `.image.imsave` (to which\u001b[39;00m\n\u001b[0;32m    455\u001b[0m \u001b[39m    *pil_kwargs* and *metadata* are forwarded).\u001b[39;00m\n\u001b[0;32m    456\u001b[0m \u001b[39m    \"\"\"\u001b[39;00m\n\u001b[1;32m--> 457\u001b[0m     FigureCanvasAgg\u001b[39m.\u001b[39;49mdraw(\u001b[39mself\u001b[39;49m)\n\u001b[0;32m    458\u001b[0m     mpl\u001b[39m.\u001b[39mimage\u001b[39m.\u001b[39mimsave(\n\u001b[0;32m    459\u001b[0m         filename_or_obj, \u001b[39mself\u001b[39m\u001b[39m.\u001b[39mbuffer_rgba(), \u001b[39mformat\u001b[39m\u001b[39m=\u001b[39mfmt, origin\u001b[39m=\u001b[39m\u001b[39m\"\u001b[39m\u001b[39mupper\u001b[39m\u001b[39m\"\u001b[39m,\n\u001b[0;32m    460\u001b[0m         dpi\u001b[39m=\u001b[39m\u001b[39mself\u001b[39m\u001b[39m.\u001b[39mfigure\u001b[39m.\u001b[39mdpi, metadata\u001b[39m=\u001b[39mmetadata, pil_kwargs\u001b[39m=\u001b[39mpil_kwargs)\n",
      "File \u001b[1;32mc:\\Users\\user\\anaconda3\\envs\\XClustering_env39\\lib\\site-packages\\matplotlib\\backends\\backend_agg.py:394\u001b[0m, in \u001b[0;36mFigureCanvasAgg.draw\u001b[1;34m(self)\u001b[0m\n\u001b[0;32m    392\u001b[0m \u001b[39mdef\u001b[39;00m \u001b[39mdraw\u001b[39m(\u001b[39mself\u001b[39m):\n\u001b[0;32m    393\u001b[0m     \u001b[39m# docstring inherited\u001b[39;00m\n\u001b[1;32m--> 394\u001b[0m     \u001b[39mself\u001b[39m\u001b[39m.\u001b[39mrenderer \u001b[39m=\u001b[39m \u001b[39mself\u001b[39;49m\u001b[39m.\u001b[39;49mget_renderer()\n\u001b[0;32m    395\u001b[0m     \u001b[39mself\u001b[39m\u001b[39m.\u001b[39mrenderer\u001b[39m.\u001b[39mclear()\n\u001b[0;32m    396\u001b[0m     \u001b[39m# Acquire a lock on the shared font cache.\u001b[39;00m\n",
      "File \u001b[1;32mc:\\Users\\user\\anaconda3\\envs\\XClustering_env39\\lib\\site-packages\\matplotlib\\_api\\deprecation.py:384\u001b[0m, in \u001b[0;36mdelete_parameter.<locals>.wrapper\u001b[1;34m(*inner_args, **inner_kwargs)\u001b[0m\n\u001b[0;32m    379\u001b[0m \u001b[39m@functools\u001b[39m\u001b[39m.\u001b[39mwraps(func)\n\u001b[0;32m    380\u001b[0m \u001b[39mdef\u001b[39;00m \u001b[39mwrapper\u001b[39m(\u001b[39m*\u001b[39minner_args, \u001b[39m*\u001b[39m\u001b[39m*\u001b[39minner_kwargs):\n\u001b[0;32m    381\u001b[0m     \u001b[39mif\u001b[39;00m \u001b[39mlen\u001b[39m(inner_args) \u001b[39m<\u001b[39m\u001b[39m=\u001b[39m name_idx \u001b[39mand\u001b[39;00m name \u001b[39mnot\u001b[39;00m \u001b[39min\u001b[39;00m inner_kwargs:\n\u001b[0;32m    382\u001b[0m         \u001b[39m# Early return in the simple, non-deprecated case (much faster than\u001b[39;00m\n\u001b[0;32m    383\u001b[0m         \u001b[39m# calling bind()).\u001b[39;00m\n\u001b[1;32m--> 384\u001b[0m         \u001b[39mreturn\u001b[39;00m func(\u001b[39m*\u001b[39minner_args, \u001b[39m*\u001b[39m\u001b[39m*\u001b[39minner_kwargs)\n\u001b[0;32m    385\u001b[0m     arguments \u001b[39m=\u001b[39m signature\u001b[39m.\u001b[39mbind(\u001b[39m*\u001b[39minner_args, \u001b[39m*\u001b[39m\u001b[39m*\u001b[39minner_kwargs)\u001b[39m.\u001b[39marguments\n\u001b[0;32m    386\u001b[0m     \u001b[39mif\u001b[39;00m is_varargs \u001b[39mand\u001b[39;00m arguments\u001b[39m.\u001b[39mget(name):\n",
      "File \u001b[1;32mc:\\Users\\user\\anaconda3\\envs\\XClustering_env39\\lib\\site-packages\\matplotlib\\backends\\backend_agg.py:411\u001b[0m, in \u001b[0;36mFigureCanvasAgg.get_renderer\u001b[1;34m(self, cleared)\u001b[0m\n\u001b[0;32m    409\u001b[0m reuse_renderer \u001b[39m=\u001b[39m (\u001b[39mself\u001b[39m\u001b[39m.\u001b[39m_lastKey \u001b[39m==\u001b[39m key)\n\u001b[0;32m    410\u001b[0m \u001b[39mif\u001b[39;00m \u001b[39mnot\u001b[39;00m reuse_renderer:\n\u001b[1;32m--> 411\u001b[0m     \u001b[39mself\u001b[39m\u001b[39m.\u001b[39mrenderer \u001b[39m=\u001b[39m RendererAgg(w, h, \u001b[39mself\u001b[39;49m\u001b[39m.\u001b[39;49mfigure\u001b[39m.\u001b[39;49mdpi)\n\u001b[0;32m    412\u001b[0m     \u001b[39mself\u001b[39m\u001b[39m.\u001b[39m_lastKey \u001b[39m=\u001b[39m key\n\u001b[0;32m    413\u001b[0m \u001b[39melif\u001b[39;00m cleared:\n",
      "File \u001b[1;32mc:\\Users\\user\\anaconda3\\envs\\XClustering_env39\\lib\\site-packages\\matplotlib\\backends\\backend_agg.py:84\u001b[0m, in \u001b[0;36mRendererAgg.__init__\u001b[1;34m(self, width, height, dpi)\u001b[0m\n\u001b[0;32m     82\u001b[0m \u001b[39mself\u001b[39m\u001b[39m.\u001b[39mwidth \u001b[39m=\u001b[39m width\n\u001b[0;32m     83\u001b[0m \u001b[39mself\u001b[39m\u001b[39m.\u001b[39mheight \u001b[39m=\u001b[39m height\n\u001b[1;32m---> 84\u001b[0m \u001b[39mself\u001b[39m\u001b[39m.\u001b[39m_renderer \u001b[39m=\u001b[39m _RendererAgg(\u001b[39mint\u001b[39;49m(width), \u001b[39mint\u001b[39;49m(height), dpi)\n\u001b[0;32m     85\u001b[0m \u001b[39mself\u001b[39m\u001b[39m.\u001b[39m_filter_renderers \u001b[39m=\u001b[39m []\n\u001b[0;32m     87\u001b[0m \u001b[39mself\u001b[39m\u001b[39m.\u001b[39m_update_methods()\n",
      "\u001b[1;31mValueError\u001b[0m: Image size of -640794694x363 pixels is too large. It must be less than 2^16 in each direction."
     ]
    },
    {
     "data": {
      "text/plain": [
       "<Figure size 800x350 with 3 Axes>"
      ]
     },
     "metadata": {},
     "output_type": "display_data"
    },
    {
     "data": {
      "text/plain": [
       "(None, 0.0)"
      ]
     },
     "execution_count": 9,
     "metadata": {},
     "output_type": "execute_result"
    }
   ],
   "source": [
    "shap.plots.waterfall(part_two_shap_values[]), sum(part_two_shap_values[0].values)"
   ]
  },
  {
   "cell_type": "code",
   "execution_count": 78,
   "metadata": {},
   "outputs": [
    {
     "data": {
      "text/plain": [
       "array([['sepallength']], dtype='<U11')"
      ]
     },
     "execution_count": 78,
     "metadata": {},
     "output_type": "execute_result"
    }
   ],
   "source": [
    "f[np.argwhere(f=='sepallength')]"
   ]
  },
  {
   "cell_type": "code",
   "execution_count": 63,
   "metadata": {},
   "outputs": [
    {
     "data": {
      "text/plain": [
       "True"
      ]
     },
     "execution_count": 63,
     "metadata": {},
     "output_type": "execute_result"
    }
   ],
   "source": [
    "a = part_two_shap_values[1].values\n",
    "top_n = 2\n",
    "ind =  np.abs(a).argsort()[-top_n:][::-1]\n",
    "f = np.array(part_two_shap_values.feature_names)[ind]\n",
    "\n",
    "a = part_two_shap_values[0].values\n",
    "top_n = 2\n",
    "ind =  np.abs(a).argsort()[-top_n:][::-1]\n",
    "ff = np.array(part_two_shap_values.feature_names)[ind]\n",
    "res = set(f).intersection({\"a\"})\n",
    "res == set()"
   ]
  },
  {
   "cell_type": "code",
   "execution_count": 8,
   "metadata": {},
   "outputs": [
    {
     "data": {
      "image/png": "[encoded data removed]",
      "text/plain": [
       "<Figure size 800x310 with 2 Axes>"
      ]
     },
     "metadata": {},
     "output_type": "display_data"
    }
   ],
   "source": [
    "shap.summary_plot(part_two_shap_values,\n",
    "                  X_label.values,\n",
    "                  cmap = \"plasma\")"
   ]
  },
  {
   "cell_type": "code",
   "execution_count": null,
   "metadata": {},
   "outputs": [
    {
     "ename": "TypeError",
     "evalue": "object of type 'numpy.float64' has no len()",
     "output_type": "error",
     "traceback": [
      "\u001b[1;31m---------------------------------------------------------------------------\u001b[0m",
      "\u001b[1;31mTypeError\u001b[0m                                 Traceback (most recent call last)",
      "Cell \u001b[1;32mIn[27], line 1\u001b[0m\n\u001b[1;32m----> 1\u001b[0m shap\u001b[39m.\u001b[39;49mplots\u001b[39m.\u001b[39;49mbar(part_two_shap_values[\u001b[39m1\u001b[39;49m, \u001b[39m1\u001b[39;49m])\n",
      "File \u001b[1;32mc:\\Users\\user\\anaconda3\\envs\\XClustering_env39\\lib\\site-packages\\shap\\plots\\_bar.py:77\u001b[0m, in \u001b[0;36mbar\u001b[1;34m(shap_values, max_display, order, clustering, clustering_cutoff, merge_cohorts, show_data, show)\u001b[0m\n\u001b[0;32m     74\u001b[0m op_history \u001b[39m=\u001b[39m cohort_exps[\u001b[39m0\u001b[39m]\u001b[39m.\u001b[39mop_history\n\u001b[0;32m     75\u001b[0m values \u001b[39m=\u001b[39m np\u001b[39m.\u001b[39marray([cohort_exps[i]\u001b[39m.\u001b[39mvalues \u001b[39mfor\u001b[39;00m i \u001b[39min\u001b[39;00m \u001b[39mrange\u001b[39m(\u001b[39mlen\u001b[39m(cohort_exps))])\n\u001b[1;32m---> 77\u001b[0m \u001b[39mif\u001b[39;00m \u001b[39mlen\u001b[39;49m(values[\u001b[39m0\u001b[39;49m]) \u001b[39m==\u001b[39m \u001b[39m0\u001b[39m:\n\u001b[0;32m     78\u001b[0m     \u001b[39mraise\u001b[39;00m \u001b[39mException\u001b[39;00m(\u001b[39m\"\u001b[39m\u001b[39mThe passed Explanation is empty! (so there is nothing to plot)\u001b[39m\u001b[39m\"\u001b[39m)\n\u001b[0;32m     80\u001b[0m \u001b[39m# we show the data on auto only when there are no transforms\u001b[39;00m\n",
      "\u001b[1;31mTypeError\u001b[0m: object of type 'numpy.float64' has no len()"
     ]
    }
   ],
   "source": [
    "shap.plots.bar(part_two_shap_values[1])"
   ]
  },
  {
   "cell_type": "code",
   "execution_count": null,
   "metadata": {},
   "outputs": [
    {
     "data": {
      "text/plain": [
       "shap._explanation.Explanation"
      ]
     },
     "execution_count": 29,
     "metadata": {},
     "output_type": "execute_result"
    }
   ],
   "source": [
    "type(part_two_shap_values[1])"
   ]
  },
  {
   "attachments": {},
   "cell_type": "markdown",
   "metadata": {},
   "source": [
    "# COBRAS - test "
   ]
  },
  {
   "cell_type": "code",
   "execution_count": 1,
   "metadata": {},
   "outputs": [
    {
     "name": "stdout",
     "output_type": "stream",
     "text": [
      "0.6422512518362898\n"
     ]
    }
   ],
   "source": [
    "import numpy as np\n",
    "from sklearn import metrics, datasets\n",
    "\n",
    "import warnings\n",
    "warnings.filterwarnings(\"ignore\")\n",
    "\n",
    "from cobras_ts.cobras_kmeans import COBRAS_kmeans\n",
    "from cobras_ts.querier.labelquerier import LabelQuerier\n",
    "from cobras_ts.querier.commandlinequerier import CommandLineQuerier\n",
    "\n",
    "\n",
    "budget = 10\n",
    "\n",
    "# import some data to play with\n",
    "iris = datasets.load_iris()\n",
    "X = iris.data[:,:]\n",
    "labels = iris.target\n",
    "\n",
    "clusterer = COBRAS_kmeans(X, LabelQuerier(labels), budget)\n",
    "clustering, intermediate_clusterings, runtimes, ml, cl = clusterer.cluster()\n",
    "\n",
    "print(metrics.adjusted_rand_score(clustering.construct_cluster_labeling(),labels))"
   ]
  },
  {
   "cell_type": "code",
   "execution_count": 2,
   "metadata": {},
   "outputs": [
    {
     "data": {
      "text/plain": [
       "[<cobras_ts.cluster.Cluster at 0x2044c7940a0>,\n",
       " <cobras_ts.cluster.Cluster at 0x2044c794160>,\n",
       " <cobras_ts.cluster.Cluster at 0x2044c794b80>]"
      ]
     },
     "execution_count": 2,
     "metadata": {},
     "output_type": "execute_result"
    }
   ],
   "source": [
    "clustering.clusters"
   ]
  },
  {
   "cell_type": "code",
   "execution_count": 4,
   "metadata": {},
   "outputs": [
    {
     "data": {
      "text/plain": [
       "[100,\n",
       " 102,\n",
       " 103,\n",
       " 104,\n",
       " 105,\n",
       " 107,\n",
       " 108,\n",
       " 109,\n",
       " 112,\n",
       " 115,\n",
       " 116,\n",
       " 117,\n",
       " 118,\n",
       " 120,\n",
       " 122,\n",
       " 124,\n",
       " 125,\n",
       " 128,\n",
       " 129,\n",
       " 130,\n",
       " 131,\n",
       " 132,\n",
       " 135,\n",
       " 136,\n",
       " 137,\n",
       " 139,\n",
       " 140,\n",
       " 141,\n",
       " 143,\n",
       " 144,\n",
       " 145,\n",
       " 148,\n",
       " 50,\n",
       " 51,\n",
       " 52,\n",
       " 54,\n",
       " 56,\n",
       " 58,\n",
       " 63,\n",
       " 65,\n",
       " 68,\n",
       " 70,\n",
       " 72,\n",
       " 73,\n",
       " 74,\n",
       " 75,\n",
       " 76,\n",
       " 77,\n",
       " 78,\n",
       " 83,\n",
       " 85,\n",
       " 86,\n",
       " 87,\n",
       " 91,\n",
       " 97,\n",
       " 101,\n",
       " 110,\n",
       " 111,\n",
       " 113,\n",
       " 114,\n",
       " 119,\n",
       " 121,\n",
       " 123,\n",
       " 126,\n",
       " 127,\n",
       " 133,\n",
       " 134,\n",
       " 138,\n",
       " 142,\n",
       " 146,\n",
       " 147,\n",
       " 149]"
      ]
     },
     "execution_count": 4,
     "metadata": {},
     "output_type": "execute_result"
    }
   ],
   "source": [
    "cluster1 = clustering.clusters[0]\n",
    "cluster1.get_all_points()"
   ]
  },
  {
   "cell_type": "code",
   "execution_count": 9,
   "metadata": {},
   "outputs": [
    {
     "data": {
      "text/plain": [
       "(<cobras_ts.superinstance_kmeans.SuperInstance_kmeans at 0x2044c794040>,\n",
       " <cobras_ts.superinstance_kmeans.SuperInstance_kmeans at 0x2044c794ca0>)"
      ]
     },
     "execution_count": 9,
     "metadata": {},
     "output_type": "execute_result"
    }
   ],
   "source": [
    "si1, si2 = cluster1.super_instances\n",
    "si1, si2"
   ]
  },
  {
   "cell_type": "code",
   "execution_count": 22,
   "metadata": {},
   "outputs": [
    {
     "data": {
      "text/plain": [
       "<cobras_ts.superinstance_kmeans.SuperInstance_kmeans at 0x2044c794ca0>"
      ]
     },
     "execution_count": 22,
     "metadata": {},
     "output_type": "execute_result"
    }
   ],
   "source": [
    "si2"
   ]
  },
  {
   "cell_type": "code",
   "execution_count": 43,
   "metadata": {},
   "outputs": [
    {
     "data": {
      "text/plain": [
       "True"
      ]
     },
     "execution_count": 43,
     "metadata": {},
     "output_type": "execute_result"
    }
   ],
   "source": [
    "si2 in cluster1.super_instances"
   ]
  },
  {
   "cell_type": "code",
   "execution_count": 36,
   "metadata": {},
   "outputs": [
    {
     "data": {
      "text/plain": [
       "[[[<cobras_ts.superinstance_kmeans.SuperInstance_kmeans at 0x2044c794040>],\n",
       "  [<cobras_ts.superinstance_kmeans.SuperInstance_kmeans at 0x2044c794ca0>]],\n",
       " [[<cobras_ts.superinstance_kmeans.SuperInstance_kmeans at 0x2044c794dc0>]],\n",
       " [[<cobras_ts.superinstance_kmeans.SuperInstance_kmeans at 0x2044c794d30>,\n",
       "   <cobras_ts.superinstance_kmeans.SuperInstance_kmeans at 0x2044c794d90>]]]"
      ]
     },
     "execution_count": 36,
     "metadata": {},
     "output_type": "execute_result"
    }
   ],
   "source": [
    "list(clustering.get_cluster_to_generalized_super_instance_map().values())"
   ]
  },
  {
   "cell_type": "code",
   "execution_count": 44,
   "metadata": {},
   "outputs": [
    {
     "data": {
      "text/plain": [
       "defaultdict(list,\n",
       "            {<cobras_ts.cluster.Cluster at 0x2044c7940a0>: [[<cobras_ts.superinstance_kmeans.SuperInstance_kmeans at 0x2044c794040>],\n",
       "              [<cobras_ts.superinstance_kmeans.SuperInstance_kmeans at 0x2044c794ca0>]],\n",
       "             <cobras_ts.cluster.Cluster at 0x2044c794160>: [[<cobras_ts.superinstance_kmeans.SuperInstance_kmeans at 0x2044c794dc0>]],\n",
       "             <cobras_ts.cluster.Cluster at 0x2044c794b80>: [[<cobras_ts.superinstance_kmeans.SuperInstance_kmeans at 0x2044c794d30>,\n",
       "               <cobras_ts.superinstance_kmeans.SuperInstance_kmeans at 0x2044c794d90>]]})"
      ]
     },
     "execution_count": 44,
     "metadata": {},
     "output_type": "execute_result"
    }
   ],
   "source": [
    "my_dict"
   ]
  },
  {
   "cell_type": "code",
   "execution_count": 107,
   "metadata": {},
   "outputs": [],
   "source": [
    "def get_cluster_and_all_super_instances(super_instance):\n",
    "    \"\"\"Function that looks for the super instances leading to the same cluster.\n",
    "    Objective: Look for all the partitions that are refering to the same cluster. \n",
    "\n",
    "    Args:\n",
    "        super_instance (cobras_ts.superinstance_kmeans.SuperInstance_kmeans): a super instance\n",
    "\n",
    "    Returns:\n",
    "        dict: The key is of type:   cobras_ts.cluster.Cluster\n",
    "              The value is of type: list(cobras_ts.superinstance_kmeans.SuperInstance_kmeans) representing the same cluster\n",
    "    \"\"\"\n",
    "    my_dict = clustering.get_cluster_to_generalized_super_instance_map()\n",
    "    return [{k:c} for k, v in my_dict.items() if [super_instance] in v][0]"
   ]
  },
  {
   "cell_type": "code",
   "execution_count": 118,
   "metadata": {},
   "outputs": [],
   "source": [
    "resul = get_cluster_and_all_super_instances(si1)"
   ]
  },
  {
   "cell_type": "code",
   "execution_count": 119,
   "metadata": {},
   "outputs": [
    {
     "data": {
      "text/plain": [
       "<cobras_ts.cluster.Cluster at 0x2044c7940a0>"
      ]
     },
     "execution_count": 119,
     "metadata": {},
     "output_type": "execute_result"
    }
   ],
   "source": [
    "list(resul.keys())[0]"
   ]
  },
  {
   "cell_type": "code",
   "execution_count": 88,
   "metadata": {},
   "outputs": [],
   "source": [
    "cluster1.get_all_points()"
   ]
  },
  {
   "cell_type": "code",
   "execution_count": 89,
   "metadata": {},
   "outputs": [
    {
     "data": {
      "text/plain": [
       "[<cobras_ts.superinstance_kmeans.SuperInstance_kmeans at 0x2044c794040>,\n",
       " <cobras_ts.superinstance_kmeans.SuperInstance_kmeans at 0x2044c794ca0>]"
      ]
     },
     "execution_count": 89,
     "metadata": {},
     "output_type": "execute_result"
    }
   ],
   "source": [
    "merged"
   ]
  },
  {
   "cell_type": "code",
   "execution_count": null,
   "metadata": {},
   "outputs": [],
   "source": []
  }
 ],
 "metadata": {
  "kernelspec": {
   "display_name": "XClustering_env39",
   "language": "python",
   "name": "python3"
  },
  "language_info": {
   "codemirror_mode": {
    "name": "ipython",
    "version": 3
   },
   "file_extension": ".py",
   "mimetype": "text/x-python",
   "name": "python",
   "nbconvert_exporter": "python",
   "pygments_lexer": "ipython3",
   "version": "3.9.16"
  },
  "orig_nbformat": 4
 },
 "nbformat": 4,
 "nbformat_minor": 2
}
