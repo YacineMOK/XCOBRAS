{
 "cells": [
  {
   "cell_type": "markdown",
   "metadata": {},
   "source": [
    "## I. Import + Load Data"
   ]
  },
  {
   "cell_type": "code",
   "execution_count": 1,
   "metadata": {},
   "outputs": [],
   "source": [
    "# ------- IMPORTS\n",
    "# -- model(s)\n",
    "from cobras_ts.querier.labelquerier import LabelQuerier\n",
    "from XQuerier import XQuerier\n",
    "from xcobras_kmeans import XCOBRAS_kmeans\n",
    "from model_explainer import XCobrasExplainer\n",
    "import shap\n",
    "\n",
    "# -- metrics\n",
    "from sklearn.metrics import adjusted_rand_score\n",
    "\n",
    "# -- plot(s)\n",
    "from utils.plots import plot_2D, plot_boundary\n",
    "import matplotlib.pyplot as plt\n",
    "\n",
    "# -- dataset(s) \n",
    "from sklearn import datasets\n",
    "from scipy.io import arff\n",
    "import pandas as pd\n",
    "import numpy as np\n",
    "\n",
    "# -- others\n",
    "import warnings\n",
    "warnings.filterwarnings(\"ignore\")\n",
    "\n",
    "\n",
    "# ------- CREATE TOY DATASET\n",
    "n_samples = 500\n",
    "X_blob0, y_blob0 = datasets.make_blobs(n_samples=n_samples, centers=3, n_features=2, random_state=0)\n",
    "X_blob1, y_blob1 = datasets.make_blobs(n_samples=n_samples, centers=3, n_features=2, random_state=1)\n",
    "X_moons1, y_moons1 = datasets.make_moons(n_samples=n_samples, noise=0.1, random_state=1)\n",
    "# on verra comment les print\n",
    "\n",
    "# ------- READ REAL DATASET\n",
    "PATH = \"../../../datasets/deric benchmark/\"\n",
    "ARTIFICIAL = PATH+\"artificial/\"\n",
    "REALWORLD = PATH+\"real-world/\"\n",
    "\n",
    "datasets_path = [\n",
    "    ARTIFICIAL+\"target\",\n",
    "    REALWORLD+\"wine\",\n",
    "    REALWORLD+\"iris\"\n",
    "]\n",
    "\n",
    "data = {}\n",
    "for dataset_path in datasets_path:\n",
    "    temp_data = arff.loadarff(open(dataset_path+\".arff\", 'r'))\n",
    "    dataset_name = dataset_path.split(\"/\")[-1]\n",
    "    data[dataset_name] = pd.DataFrame(temp_data[0])\n",
    "    data[dataset_name][\"class\"] = data[dataset_name][\"class\"].str.decode('utf-8') "
   ]
  },
  {
   "cell_type": "code",
   "execution_count": 2,
   "metadata": {},
   "outputs": [],
   "source": [
    "X = data[\"iris\"].drop([\"class\"], axis=1)\n",
    "y = data[\"iris\"][\"class\"]\n",
    "\n",
    "feature_names = X.columns\n",
    "\n",
    "budget = 10"
   ]
  },
  {
   "cell_type": "code",
   "execution_count": 3,
   "metadata": {},
   "outputs": [
    {
     "name": "stdout",
     "output_type": "stream",
     "text": [
      "Fitting...\n",
      "Size of the dataset:150\n",
      "Point 1 has: 108 points and Point 2 has: 133.\n",
      "Size of the dataset:150\n",
      "Point 1 has: 108 points and Point 2 has: 134.\n",
      "Size of the dataset:150\n",
      "Point 1 has: 57 points and Point 2 has: 71.\n",
      "Size of the dataset:150\n",
      "Point 1 has: 72 points and Point 2 has: 83.\n",
      "- Mask size: 50 and -> coverage: 0.3333333333333333\n",
      "Model Explainer running...\n",
      "... finished!\n",
      "------------------------------------------\n",
      "\n",
      "\n",
      "Computing the 'Shap Values'...\n"
     ]
    },
    {
     "ename": "IndexError",
     "evalue": "index 83 is out of bounds for axis 1 with size 4",
     "output_type": "error",
     "traceback": [
      "\u001b[1;31m---------------------------------------------------------------------------\u001b[0m",
      "\u001b[1;31mIndexError\u001b[0m                                Traceback (most recent call last)",
      "Cell \u001b[1;32mIn[3], line 9\u001b[0m\n\u001b[0;32m      7\u001b[0m xcobras_kmeans \u001b[39m=\u001b[39m XCOBRAS_kmeans(budget, verbose\u001b[39m=\u001b[39m\u001b[39mFalse\u001b[39;00m)\n\u001b[0;32m      8\u001b[0m \u001b[39mprint\u001b[39m(\u001b[39m\"\u001b[39m\u001b[39mFitting...\u001b[39m\u001b[39m\"\u001b[39m)\n\u001b[1;32m----> 9\u001b[0m xcobras_kmeans\u001b[39m.\u001b[39;49mfit(X\u001b[39m.\u001b[39;49mvalues, feature_names\u001b[39m=\u001b[39;49mfeature_names, y\u001b[39m=\u001b[39;49mxai_querier)\n\u001b[0;32m     10\u001b[0m \u001b[39m# xcobras_kmeans.fit(X.values)\u001b[39;00m\n\u001b[0;32m     11\u001b[0m \u001b[39mprint\u001b[39m(\u001b[39m\"\u001b[39m\u001b[39mPredicting...\u001b[39m\u001b[39m\"\u001b[39m)\n",
      "File \u001b[1;32mc:\\Users\\user\\Desktop\\M2\\T8 Internship\\Stage-Code\\tests\\XCOBRAS\\XCOBRAS_kmeans\\xcobras_kmeans.py:55\u001b[0m, in \u001b[0;36mXCOBRAS_kmeans.fit\u001b[1;34m(self, X, feature_names, y, store_intermediate_results)\u001b[0m\n\u001b[0;32m     53\u001b[0m \u001b[39m# performs clustering\u001b[39;00m\n\u001b[0;32m     54\u001b[0m \u001b[39mself\u001b[39m\u001b[39m.\u001b[39mfitted \u001b[39m=\u001b[39m \u001b[39mTrue\u001b[39;00m\n\u001b[1;32m---> 55\u001b[0m \u001b[39mreturn\u001b[39;00m \u001b[39mself\u001b[39;49m\u001b[39m.\u001b[39;49mcluster()\n",
      "File \u001b[1;32mc:\\Users\\user\\anaconda3\\envs\\XClustering_env39\\lib\\site-packages\\cobras_ts\\cobras.py:111\u001b[0m, in \u001b[0;36mCOBRAS.cluster\u001b[1;34m(self)\u001b[0m\n\u001b[0;32m    107\u001b[0m     \u001b[39mself\u001b[39m\u001b[39m.\u001b[39mclustering\u001b[39m.\u001b[39mclusters\u001b[39m.\u001b[39mremove(originating_cluster)\n\u001b[0;32m    109\u001b[0m \u001b[39m# - splitting phase -\u001b[39;00m\n\u001b[0;32m    110\u001b[0m \u001b[39m# determine the splitlevel\u001b[39;00m\n\u001b[1;32m--> 111\u001b[0m split_level \u001b[39m=\u001b[39m \u001b[39mself\u001b[39;49m\u001b[39m.\u001b[39;49mdetermine_split_level(to_split, clustering_to_store)\n\u001b[0;32m    113\u001b[0m \u001b[39m# split the chosen super-instance\u001b[39;00m\n\u001b[0;32m    114\u001b[0m new_super_instances \u001b[39m=\u001b[39m \u001b[39mself\u001b[39m\u001b[39m.\u001b[39msplit_superinstance(to_split, split_level)\n",
      "File \u001b[1;32mc:\\Users\\user\\Desktop\\M2\\T8 Internship\\Stage-Code\\tests\\XCOBRAS\\XCOBRAS_kmeans\\xcobras_kmeans.py:134\u001b[0m, in \u001b[0;36mXCOBRAS_kmeans.determine_split_level\u001b[1;34m(self, superinstance, clustering_to_store)\u001b[0m\n\u001b[0;32m    131\u001b[0m     \u001b[39mprint\u001b[39m(\u001b[39m\"\u001b[39m\u001b[39mComputing the \u001b[39m\u001b[39m'\u001b[39m\u001b[39mShap Values\u001b[39m\u001b[39m'\u001b[39m\u001b[39m...\u001b[39m\u001b[39m\"\u001b[39m)\n\u001b[0;32m    132\u001b[0m     \u001b[39m# explain que les deux groupes \u001b[39;00m\n\u001b[0;32m    133\u001b[0m     shap_values \u001b[39m=\u001b[39m \u001b[39mself\u001b[39m\u001b[39m.\u001b[39mmodel_explainer\u001b[39m.\u001b[39mexplain(\n\u001b[1;32m--> 134\u001b[0m         np\u001b[39m.\u001b[39;49marray(\u001b[39mself\u001b[39;49m\u001b[39m.\u001b[39;49mdata)[pt1, pt2], \n\u001b[0;32m    135\u001b[0m         feature_names \u001b[39m=\u001b[39m \u001b[39mself\u001b[39m\u001b[39m.\u001b[39mfeature_names\n\u001b[0;32m    136\u001b[0m         )\n\u001b[0;32m    137\u001b[0m     \u001b[39mprint\u001b[39m(\u001b[39m\"\u001b[39m\u001b[39m... finished!\u001b[39m\u001b[39m\\n\u001b[39;00m\u001b[39m------------------------------------------\u001b[39m\u001b[39m\\n\u001b[39;00m\u001b[39m\\n\u001b[39;00m\u001b[39m\"\u001b[39m)\n\u001b[0;32m    138\u001b[0m \u001b[39m############################################################################################################\u001b[39;00m\n",
      "\u001b[1;31mIndexError\u001b[0m: index 83 is out of bounds for axis 1 with size 4"
     ]
    }
   ],
   "source": [
    "xai_querier = XQuerier(\n",
    "    y.values,\n",
    "    strat=\"commun_fraction\",\n",
    "    top_n = 3,\n",
    "    threshold = 0.5\n",
    ")\n",
    "xcobras_kmeans = XCOBRAS_kmeans(budget, verbose=False)\n",
    "print(\"Fitting...\")\n",
    "xcobras_kmeans.fit(X.values, feature_names=feature_names, y=xai_querier)\n",
    "# xcobras_kmeans.fit(X.values)\n",
    "print(\"Predicting...\")\n",
    "y_hat = xcobras_kmeans.predict(X.values)\n",
    "print(f\"ARI: {adjusted_rand_score(y_hat, y):.2f}\")"
   ]
  },
  {
   "cell_type": "code",
   "execution_count": 13,
   "metadata": {},
   "outputs": [
    {
     "data": {
      "text/plain": [
       "array([4, 4, 4, 4, 4, 2])"
      ]
     },
     "execution_count": 13,
     "metadata": {},
     "output_type": "execute_result"
    }
   ],
   "source": [
    "l = np.array([0, 0, 1, 1, 0, 2])\n",
    "m = l==2\n",
    "l[~m] = 4\n",
    "l"
   ]
  },
  {
   "cell_type": "code",
   "execution_count": 4,
   "metadata": {},
   "outputs": [
    {
     "name": "stdout",
     "output_type": "stream",
     "text": [
      "---------Some scores:---------\n",
      "------------------------------\n",
      "f1-score (macro): 1.0000000000\n",
      "         (micro): 1.0000000000\n",
      "  accuracy_score: 1.0000000000\n",
      "------------------------------\n"
     ]
    }
   ],
   "source": [
    "part_two = XCobrasExplainer(verbose=True)\n",
    "part_two.fit(X.values, y_hat)"
   ]
  },
  {
   "attachments": {},
   "cell_type": "markdown",
   "metadata": {},
   "source": [
    "### Shap"
   ]
  },
  {
   "cell_type": "markdown",
   "metadata": {},
   "source": [
    "**General idea:**  \n",
    "1. Get all the instances of a certain cluster\n",
    "2. Explain the whole cluster\n",
    "3. Show explanation of 2 samples"
   ]
  },
  {
   "cell_type": "code",
   "execution_count": 5,
   "metadata": {},
   "outputs": [
    {
     "name": "stdout",
     "output_type": "stream",
     "text": [
      "Chosen label: 0\n",
      "Number of instances: 73\n"
     ]
    }
   ],
   "source": [
    "import shap\n",
    "\n",
    "# 1  .................\n",
    "label = np.random.choice(list(set(y_hat)))\n",
    "print(f\"Chosen label: {label}\")\n",
    "X_label = X[list(y_hat)==label]\n",
    "print(f\"Number of instances: {X_label.shape[0]}\")"
   ]
  },
  {
   "cell_type": "code",
   "execution_count": 6,
   "metadata": {},
   "outputs": [
    {
     "name": "stdout",
     "output_type": "stream",
     "text": [
      "PartTwo explainer .... \n"
     ]
    }
   ],
   "source": [
    "# 2  .................\n",
    "# #  ---- COBRAS\n",
    "# explainer_XCOBRAS_kmeans = shap.Explainer(\n",
    "#     xcobras_kmeans.predict,\n",
    "#     X_label.values,\n",
    "#     feature_names=list(X.columns)\n",
    "# )\n",
    "# print(\"XCOBRAS explainer .... \")\n",
    "# XCOBRAS_shap_values = explainer_XCOBRAS_kmeans(X_label.values)\n",
    "\n",
    "\n",
    "#  ---- PartTwo (RBF SVM)\n",
    "explainer_part_two = shap.Explainer(\n",
    "    part_two.predict,\n",
    "    X_label.values,\n",
    "    feature_names=list(X.columns)\n",
    ")\n",
    "print(\"PartTwo explainer .... \")\n",
    "part_two_shap_values = explainer_part_two(X_label)"
   ]
  },
  {
   "cell_type": "code",
   "execution_count": 7,
   "metadata": {},
   "outputs": [],
   "source": [
    "# # 3  .................\n",
    "# shap.summary_plot(XCOBRAS_shap_values,\n",
    "#                   X_label.values,\n",
    "#                   cmap = \"plasma\")"
   ]
  },
  {
   "cell_type": "code",
   "execution_count": 71,
   "metadata": {},
   "outputs": [
    {
     "data": {
      "text/plain": [
       "3"
      ]
     },
     "execution_count": 71,
     "metadata": {},
     "output_type": "execute_result"
    }
   ],
   "source": [
    "len(set(y_hat))"
   ]
  },
  {
   "cell_type": "code",
   "execution_count": 72,
   "metadata": {},
   "outputs": [
    {
     "data": {
      "image/png": "[encoded data removed]",
      "text/plain": [
       "<Figure size 800x350 with 3 Axes>"
      ]
     },
     "metadata": {},
     "output_type": "display_data"
    },
    {
     "data": {
      "text/plain": [
       "(None, -0.0136986301369863)"
      ]
     },
     "execution_count": 72,
     "metadata": {},
     "output_type": "execute_result"
    }
   ],
   "source": [
    "shap.plots.waterfall(part_two_shap_values[4]), sum(part_two_shap_values[30].values)"
   ]
  },
  {
   "cell_type": "code",
   "execution_count": 78,
   "metadata": {},
   "outputs": [
    {
     "data": {
      "text/plain": [
       "array([['sepallength']], dtype='<U11')"
      ]
     },
     "execution_count": 78,
     "metadata": {},
     "output_type": "execute_result"
    }
   ],
   "source": [
    "f[np.argwhere(f=='sepallength')]"
   ]
  },
  {
   "cell_type": "code",
   "execution_count": 63,
   "metadata": {},
   "outputs": [
    {
     "data": {
      "text/plain": [
       "True"
      ]
     },
     "execution_count": 63,
     "metadata": {},
     "output_type": "execute_result"
    }
   ],
   "source": [
    "a = part_two_shap_values[1].values\n",
    "top_n = 2\n",
    "ind =  np.abs(a).argsort()[-top_n:][::-1]\n",
    "f = np.array(part_two_shap_values.feature_names)[ind]\n",
    "\n",
    "a = part_two_shap_values[0].values\n",
    "top_n = 2\n",
    "ind =  np.abs(a).argsort()[-top_n:][::-1]\n",
    "ff = np.array(part_two_shap_values.feature_names)[ind]\n",
    "res = set(f).intersection({\"a\"})\n",
    "res == set()"
   ]
  },
  {
   "cell_type": "code",
   "execution_count": 8,
   "metadata": {},
   "outputs": [
    {
     "data": {
      "image/png": "[encoded data removed]",
      "text/plain": [
       "<Figure size 800x310 with 2 Axes>"
      ]
     },
     "metadata": {},
     "output_type": "display_data"
    }
   ],
   "source": [
    "shap.summary_plot(part_two_shap_values,\n",
    "                  X_label.values,\n",
    "                  cmap = \"plasma\")"
   ]
  },
  {
   "cell_type": "code",
   "execution_count": null,
   "metadata": {},
   "outputs": [
    {
     "ename": "TypeError",
     "evalue": "object of type 'numpy.float64' has no len()",
     "output_type": "error",
     "traceback": [
      "\u001b[1;31m---------------------------------------------------------------------------\u001b[0m",
      "\u001b[1;31mTypeError\u001b[0m                                 Traceback (most recent call last)",
      "Cell \u001b[1;32mIn[27], line 1\u001b[0m\n\u001b[1;32m----> 1\u001b[0m shap\u001b[39m.\u001b[39;49mplots\u001b[39m.\u001b[39;49mbar(part_two_shap_values[\u001b[39m1\u001b[39;49m, \u001b[39m1\u001b[39;49m])\n",
      "File \u001b[1;32mc:\\Users\\user\\anaconda3\\envs\\XClustering_env39\\lib\\site-packages\\shap\\plots\\_bar.py:77\u001b[0m, in \u001b[0;36mbar\u001b[1;34m(shap_values, max_display, order, clustering, clustering_cutoff, merge_cohorts, show_data, show)\u001b[0m\n\u001b[0;32m     74\u001b[0m op_history \u001b[39m=\u001b[39m cohort_exps[\u001b[39m0\u001b[39m]\u001b[39m.\u001b[39mop_history\n\u001b[0;32m     75\u001b[0m values \u001b[39m=\u001b[39m np\u001b[39m.\u001b[39marray([cohort_exps[i]\u001b[39m.\u001b[39mvalues \u001b[39mfor\u001b[39;00m i \u001b[39min\u001b[39;00m \u001b[39mrange\u001b[39m(\u001b[39mlen\u001b[39m(cohort_exps))])\n\u001b[1;32m---> 77\u001b[0m \u001b[39mif\u001b[39;00m \u001b[39mlen\u001b[39;49m(values[\u001b[39m0\u001b[39;49m]) \u001b[39m==\u001b[39m \u001b[39m0\u001b[39m:\n\u001b[0;32m     78\u001b[0m     \u001b[39mraise\u001b[39;00m \u001b[39mException\u001b[39;00m(\u001b[39m\"\u001b[39m\u001b[39mThe passed Explanation is empty! (so there is nothing to plot)\u001b[39m\u001b[39m\"\u001b[39m)\n\u001b[0;32m     80\u001b[0m \u001b[39m# we show the data on auto only when there are no transforms\u001b[39;00m\n",
      "\u001b[1;31mTypeError\u001b[0m: object of type 'numpy.float64' has no len()"
     ]
    }
   ],
   "source": [
    "shap.plots.bar(part_two_shap_values[1])"
   ]
  },
  {
   "cell_type": "code",
   "execution_count": null,
   "metadata": {},
   "outputs": [
    {
     "data": {
      "text/plain": [
       "shap._explanation.Explanation"
      ]
     },
     "execution_count": 29,
     "metadata": {},
     "output_type": "execute_result"
    }
   ],
   "source": [
    "type(part_two_shap_values[1])"
   ]
  },
  {
   "attachments": {},
   "cell_type": "markdown",
   "metadata": {},
   "source": [
    "# COBRAS - test "
   ]
  },
  {
   "cell_type": "code",
   "execution_count": 1,
   "metadata": {},
   "outputs": [
    {
     "name": "stdout",
     "output_type": "stream",
     "text": [
      "0.6422512518362898\n"
     ]
    }
   ],
   "source": [
    "import numpy as np\n",
    "from sklearn import metrics, datasets\n",
    "\n",
    "import warnings\n",
    "warnings.filterwarnings(\"ignore\")\n",
    "\n",
    "from cobras_ts.cobras_kmeans import COBRAS_kmeans\n",
    "from cobras_ts.querier.labelquerier import LabelQuerier\n",
    "from cobras_ts.querier.commandlinequerier import CommandLineQuerier\n",
    "\n",
    "\n",
    "budget = 10\n",
    "\n",
    "# import some data to play with\n",
    "iris = datasets.load_iris()\n",
    "X = iris.data[:,:]\n",
    "labels = iris.target\n",
    "\n",
    "clusterer = COBRAS_kmeans(X, LabelQuerier(labels), budget)\n",
    "clustering, intermediate_clusterings, runtimes, ml, cl = clusterer.cluster()\n",
    "\n",
    "print(metrics.adjusted_rand_score(clustering.construct_cluster_labeling(),labels))"
   ]
  },
  {
   "cell_type": "code",
   "execution_count": 2,
   "metadata": {},
   "outputs": [
    {
     "data": {
      "text/plain": [
       "[<cobras_ts.cluster.Cluster at 0x2044c7940a0>,\n",
       " <cobras_ts.cluster.Cluster at 0x2044c794160>,\n",
       " <cobras_ts.cluster.Cluster at 0x2044c794b80>]"
      ]
     },
     "execution_count": 2,
     "metadata": {},
     "output_type": "execute_result"
    }
   ],
   "source": [
    "clustering.clusters"
   ]
  },
  {
   "cell_type": "code",
   "execution_count": 4,
   "metadata": {},
   "outputs": [
    {
     "data": {
      "text/plain": [
       "[100,\n",
       " 102,\n",
       " 103,\n",
       " 104,\n",
       " 105,\n",
       " 107,\n",
       " 108,\n",
       " 109,\n",
       " 112,\n",
       " 115,\n",
       " 116,\n",
       " 117,\n",
       " 118,\n",
       " 120,\n",
       " 122,\n",
       " 124,\n",
       " 125,\n",
       " 128,\n",
       " 129,\n",
       " 130,\n",
       " 131,\n",
       " 132,\n",
       " 135,\n",
       " 136,\n",
       " 137,\n",
       " 139,\n",
       " 140,\n",
       " 141,\n",
       " 143,\n",
       " 144,\n",
       " 145,\n",
       " 148,\n",
       " 50,\n",
       " 51,\n",
       " 52,\n",
       " 54,\n",
       " 56,\n",
       " 58,\n",
       " 63,\n",
       " 65,\n",
       " 68,\n",
       " 70,\n",
       " 72,\n",
       " 73,\n",
       " 74,\n",
       " 75,\n",
       " 76,\n",
       " 77,\n",
       " 78,\n",
       " 83,\n",
       " 85,\n",
       " 86,\n",
       " 87,\n",
       " 91,\n",
       " 97,\n",
       " 101,\n",
       " 110,\n",
       " 111,\n",
       " 113,\n",
       " 114,\n",
       " 119,\n",
       " 121,\n",
       " 123,\n",
       " 126,\n",
       " 127,\n",
       " 133,\n",
       " 134,\n",
       " 138,\n",
       " 142,\n",
       " 146,\n",
       " 147,\n",
       " 149]"
      ]
     },
     "execution_count": 4,
     "metadata": {},
     "output_type": "execute_result"
    }
   ],
   "source": [
    "cluster1 = clustering.clusters[0]\n",
    "cluster1.get_all_points()"
   ]
  },
  {
   "cell_type": "code",
   "execution_count": 9,
   "metadata": {},
   "outputs": [
    {
     "data": {
      "text/plain": [
       "(<cobras_ts.superinstance_kmeans.SuperInstance_kmeans at 0x2044c794040>,\n",
       " <cobras_ts.superinstance_kmeans.SuperInstance_kmeans at 0x2044c794ca0>)"
      ]
     },
     "execution_count": 9,
     "metadata": {},
     "output_type": "execute_result"
    }
   ],
   "source": [
    "si1, si2 = cluster1.super_instances\n",
    "si1, si2"
   ]
  },
  {
   "cell_type": "code",
   "execution_count": 22,
   "metadata": {},
   "outputs": [
    {
     "data": {
      "text/plain": [
       "<cobras_ts.superinstance_kmeans.SuperInstance_kmeans at 0x2044c794ca0>"
      ]
     },
     "execution_count": 22,
     "metadata": {},
     "output_type": "execute_result"
    }
   ],
   "source": [
    "si2"
   ]
  },
  {
   "cell_type": "code",
   "execution_count": 43,
   "metadata": {},
   "outputs": [
    {
     "data": {
      "text/plain": [
       "True"
      ]
     },
     "execution_count": 43,
     "metadata": {},
     "output_type": "execute_result"
    }
   ],
   "source": [
    "si2 in cluster1.super_instances"
   ]
  },
  {
   "cell_type": "code",
   "execution_count": 36,
   "metadata": {},
   "outputs": [
    {
     "data": {
      "text/plain": [
       "[[[<cobras_ts.superinstance_kmeans.SuperInstance_kmeans at 0x2044c794040>],\n",
       "  [<cobras_ts.superinstance_kmeans.SuperInstance_kmeans at 0x2044c794ca0>]],\n",
       " [[<cobras_ts.superinstance_kmeans.SuperInstance_kmeans at 0x2044c794dc0>]],\n",
       " [[<cobras_ts.superinstance_kmeans.SuperInstance_kmeans at 0x2044c794d30>,\n",
       "   <cobras_ts.superinstance_kmeans.SuperInstance_kmeans at 0x2044c794d90>]]]"
      ]
     },
     "execution_count": 36,
     "metadata": {},
     "output_type": "execute_result"
    }
   ],
   "source": [
    "list(clustering.get_cluster_to_generalized_super_instance_map().values())"
   ]
  },
  {
   "cell_type": "code",
   "execution_count": 44,
   "metadata": {},
   "outputs": [
    {
     "data": {
      "text/plain": [
       "defaultdict(list,\n",
       "            {<cobras_ts.cluster.Cluster at 0x2044c7940a0>: [[<cobras_ts.superinstance_kmeans.SuperInstance_kmeans at 0x2044c794040>],\n",
       "              [<cobras_ts.superinstance_kmeans.SuperInstance_kmeans at 0x2044c794ca0>]],\n",
       "             <cobras_ts.cluster.Cluster at 0x2044c794160>: [[<cobras_ts.superinstance_kmeans.SuperInstance_kmeans at 0x2044c794dc0>]],\n",
       "             <cobras_ts.cluster.Cluster at 0x2044c794b80>: [[<cobras_ts.superinstance_kmeans.SuperInstance_kmeans at 0x2044c794d30>,\n",
       "               <cobras_ts.superinstance_kmeans.SuperInstance_kmeans at 0x2044c794d90>]]})"
      ]
     },
     "execution_count": 44,
     "metadata": {},
     "output_type": "execute_result"
    }
   ],
   "source": [
    "my_dict"
   ]
  },
  {
   "cell_type": "code",
   "execution_count": 107,
   "metadata": {},
   "outputs": [],
   "source": [
    "def get_cluster_and_all_super_instances(super_instance):\n",
    "    \"\"\"Function that looks for the super instances leading to the same cluster.\n",
    "    Objective: Look for all the partitions that are refering to the same cluster. \n",
    "\n",
    "    Args:\n",
    "        super_instance (cobras_ts.superinstance_kmeans.SuperInstance_kmeans): a super instance\n",
    "\n",
    "    Returns:\n",
    "        dict: The key is of type:   cobras_ts.cluster.Cluster\n",
    "              The value is of type: list(cobras_ts.superinstance_kmeans.SuperInstance_kmeans) representing the same cluster\n",
    "    \"\"\"\n",
    "    my_dict = clustering.get_cluster_to_generalized_super_instance_map()\n",
    "    return [{k:c} for k, v in my_dict.items() if [super_instance] in v][0]"
   ]
  },
  {
   "cell_type": "code",
   "execution_count": 118,
   "metadata": {},
   "outputs": [],
   "source": [
    "resul = get_cluster_and_all_super_instances(si1)"
   ]
  },
  {
   "cell_type": "code",
   "execution_count": 119,
   "metadata": {},
   "outputs": [
    {
     "data": {
      "text/plain": [
       "<cobras_ts.cluster.Cluster at 0x2044c7940a0>"
      ]
     },
     "execution_count": 119,
     "metadata": {},
     "output_type": "execute_result"
    }
   ],
   "source": [
    "list(resul.keys())[0]"
   ]
  },
  {
   "cell_type": "code",
   "execution_count": 88,
   "metadata": {},
   "outputs": [],
   "source": [
    "cluster1.get_all_points()"
   ]
  },
  {
   "cell_type": "code",
   "execution_count": 89,
   "metadata": {},
   "outputs": [
    {
     "data": {
      "text/plain": [
       "[<cobras_ts.superinstance_kmeans.SuperInstance_kmeans at 0x2044c794040>,\n",
       " <cobras_ts.superinstance_kmeans.SuperInstance_kmeans at 0x2044c794ca0>]"
      ]
     },
     "execution_count": 89,
     "metadata": {},
     "output_type": "execute_result"
    }
   ],
   "source": [
    "merged"
   ]
  },
  {
   "cell_type": "code",
   "execution_count": null,
   "metadata": {},
   "outputs": [],
   "source": []
  }
 ],
 "metadata": {
  "kernelspec": {
   "display_name": "XClustering_env39",
   "language": "python",
   "name": "python3"
  },
  "language_info": {
   "codemirror_mode": {
    "name": "ipython",
    "version": 3
   },
   "file_extension": ".py",
   "mimetype": "text/x-python",
   "name": "python",
   "nbconvert_exporter": "python",
   "pygments_lexer": "ipython3",
   "version": "3.9.16"
  },
  "orig_nbformat": 4
 },
 "nbformat": 4,
 "nbformat_minor": 2
}
