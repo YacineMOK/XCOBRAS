{
 "cells": [
  {
   "cell_type": "markdown",
   "metadata": {},
   "source": [
    "## I. Import + Load Data"
   ]
  },
  {
   "cell_type": "code",
   "execution_count": 1,
   "metadata": {},
   "outputs": [],
   "source": [
    "# ------- IMPORTS\n",
    "# -- model(s)\n",
    "from cobras_ts.querier.labelquerier import LabelQuerier\n",
    "from xcobras_kmeans import XCOBRAS_kmeans\n",
    "from model_explainer import PartTwo\n",
    "import shap\n",
    "\n",
    "# -- metrics\n",
    "from sklearn.metrics import adjusted_rand_score\n",
    "\n",
    "# -- plot(s)\n",
    "from utils.plots import plot_2D, plot_boundary\n",
    "import matplotlib.pyplot as plt\n",
    "\n",
    "# -- dataset(s) \n",
    "from sklearn import datasets\n",
    "from scipy.io import arff\n",
    "import pandas as pd\n",
    "import numpy as np\n",
    "\n",
    "# -- others\n",
    "import warnings\n",
    "warnings.filterwarnings(\"ignore\")\n",
    "\n",
    "\n",
    "# ------- CREATE TOY DATASET\n",
    "n_samples = 500\n",
    "X_blob0, y_blob0 = datasets.make_blobs(n_samples=n_samples, centers=3, n_features=2, random_state=0)\n",
    "X_blob1, y_blob1 = datasets.make_blobs(n_samples=n_samples, centers=3, n_features=2, random_state=1)\n",
    "X_moons1, y_moons1 = datasets.make_moons(n_samples=n_samples, noise=0.1, random_state=1)\n",
    "# on verra comment les print\n",
    "\n",
    "# ------- READ REAL DATASET\n",
    "PATH = \"../../../datasets/deric benchmark/\"\n",
    "ARTIFICIAL = PATH+\"artificial/\"\n",
    "REALWORLD = PATH+\"real-world/\"\n",
    "\n",
    "datasets_path = [\n",
    "    ARTIFICIAL+\"target\",\n",
    "    REALWORLD+\"wine\",\n",
    "    REALWORLD+\"iris\"\n",
    "]\n",
    "\n",
    "data = {}\n",
    "for dataset_path in datasets_path:\n",
    "    temp_data = arff.loadarff(open(dataset_path+\".arff\", 'r'))\n",
    "    dataset_name = dataset_path.split(\"/\")[-1]\n",
    "    data[dataset_name] = pd.DataFrame(temp_data[0])\n",
    "    data[dataset_name][\"class\"] = data[dataset_name][\"class\"].str.decode('utf-8') "
   ]
  },
  {
   "cell_type": "code",
   "execution_count": 2,
   "metadata": {},
   "outputs": [],
   "source": [
    "X = data[\"wine\"].drop([\"class\"], axis=1)\n",
    "y = data[\"wine\"][\"class\"]\n",
    "\n",
    "feature_names = list(X.columns)\n",
    "\n",
    "budget = 160"
   ]
  },
  {
   "cell_type": "code",
   "execution_count": 3,
   "metadata": {},
   "outputs": [
    {
     "name": "stdout",
     "output_type": "stream",
     "text": [
      "Fitting...\n"
     ]
    }
   ],
   "source": [
    "xcobras_kmeans = XCOBRAS_kmeans(budget)\n",
    "print(\"Fitting...\")\n",
    "xcobras_kmeans.fit(X.values, LabelQuerier(y.values))\n",
    "print(\"Predicting...\")\n",
    "y_hat = xcobras_kmeans.predict(X.values)\n",
    "print(f\"ARI: {adjusted_rand_score(y_hat, y):.2f}\")"
   ]
  },
  {
   "cell_type": "code",
   "execution_count": 11,
   "metadata": {},
   "outputs": [
    {
     "name": "stdout",
     "output_type": "stream",
     "text": [
      "---------Some scores:---------\n",
      "------------------------------\n",
      "f1-score (macro): 0.8975108711950818\n",
      "         (micro): 0.9027777777777778\n",
      "accuracy_score:   0.9027777777777778\n",
      "------------------------------\n"
     ]
    }
   ],
   "source": [
    "part_two = PartTwo(verbose=True)\n",
    "part_two.fit(X.values, y_hat)"
   ]
  },
  {
   "attachments": {},
   "cell_type": "markdown",
   "metadata": {},
   "source": [
    "### Shap"
   ]
  },
  {
   "cell_type": "markdown",
   "metadata": {},
   "source": [
    "**General idea:**  \n",
    "1. Get all the instances of a certain cluster\n",
    "2. Explain the whole cluster\n",
    "3. Show explanation of 2 samples"
   ]
  },
  {
   "cell_type": "code",
   "execution_count": null,
   "metadata": {},
   "outputs": [],
   "source": [
    "import shap\n",
    "\n",
    "# 1  .................\n",
    "label = np.random.choice(list(set(y_hat)))\n",
    "print(f\"Chosen label: {label}\")\n",
    "X_label = X[list(y_hat)==label]\n",
    "print(f\"Number of instances: {X_label.shape[0]}\")"
   ]
  },
  {
   "cell_type": "code",
   "execution_count": null,
   "metadata": {},
   "outputs": [],
   "source": [
    "# 2  .................\n",
    "#  ---- COBRAS\n",
    "explainer_XCOBRAS_kmeans = shap.Explainer(\n",
    "    xcobras_kmeans.predict,\n",
    "    X_label.values,\n",
    "    feature_names=list(X.columns)\n",
    ")\n",
    "print(\"XCOBRAS explainer .... \")\n",
    "XCOBRAS_shap_values = explainer_XCOBRAS_kmeans(X_label.values)\n",
    "\n",
    "\n",
    "#  ---- PartTwo (RBF SVM)\n",
    "explainer_part_two = shap.Explainer(\n",
    "    part_two.predict,\n",
    "    X_label.values,\n",
    "    feature_names=list(X.columns)\n",
    ")\n",
    "print(\"PartTwo explainer .... \")\n",
    "part_two_shap_values = explainer_part_two(X_label)"
   ]
  },
  {
   "cell_type": "code",
   "execution_count": null,
   "metadata": {},
   "outputs": [],
   "source": [
    "# 3  .................\n",
    "shap.summary_plot(XCOBRAS_shap_values,\n",
    "                  X_label.values,\n",
    "                  cmap = \"plasma\")"
   ]
  },
  {
   "cell_type": "code",
   "execution_count": null,
   "metadata": {},
   "outputs": [],
   "source": [
    "shap.summary_plot(part_two_shap_values,\n",
    "                  X_label.values,\n",
    "                  cmap = \"plasma\")"
   ]
  }
 ],
 "metadata": {
  "kernelspec": {
   "display_name": "XClustering_env39",
   "language": "python",
   "name": "python3"
  },
  "language_info": {
   "codemirror_mode": {
    "name": "ipython",
    "version": 3
   },
   "file_extension": ".py",
   "mimetype": "text/x-python",
   "name": "python",
   "nbconvert_exporter": "python",
   "pygments_lexer": "ipython3",
   "version": "3.9.16"
  },
  "orig_nbformat": 4
 },
 "nbformat": 4,
 "nbformat_minor": 2
}
